{
 "cells": [
  {
   "cell_type": "markdown",
   "metadata": {},
   "source": [
    "Lo primero que vamos a realizar sera importar las librerias para analizar y explorar nuestros datos de la mejor manera."
   ]
  },
  {
   "cell_type": "code",
   "execution_count": null,
   "metadata": {},
   "outputs": [],
   "source": [
    "import pandas as pd\n",
    "import numpy as np\n",
    "import matplotlib.pyplot as plt\n",
    "import seaborn as sns"
   ]
  },
  {
   "cell_type": "markdown",
   "metadata": {},
   "source": [
    "Despues de haber cargado las librerias vamos a leer nuestro archivo csv para ver la data que tenemos dentro y empezar a trabajar con ella."
   ]
  },
  {
   "cell_type": "code",
   "execution_count": null,
   "metadata": {},
   "outputs": [],
   "source": [
    "df = pd.read_csv('AccidentesAviones.csv')\n",
    "df.head(10)"
   ]
  },
  {
   "cell_type": "markdown",
   "metadata": {},
   "source": [
    "Si analizamos los nombres de las columnas están en 2 idiomas diferentes, tambien tienen mayusculas intermedio y nombres que no van de acuerdo con el dato, lo que haremos será cambiar el nombre de cada columna para hacer un análisis en nuestro idioma y entender nuestros datos."
   ]
  },
  {
   "cell_type": "code",
   "execution_count": null,
   "metadata": {},
   "outputs": [],
   "source": [
    "#cambiar nombre de columna\n",
    "df.rename(columns={'Unnamed: 0':'Id Catastrofe'}, inplace=True)\n",
    "df.rename(columns={'fecha':'Fecha'}, inplace=True)\n",
    "df.rename(columns={'HORA declarada':'Hora'}, inplace=True)\n",
    "df.rename(columns={'Ruta':'Lugar'}, inplace=True)\n",
    "df.rename(columns={'OperadOR':'Aerolinea'}, inplace=True)\n",
    "df.rename(columns={'flight_no':'Vuelo No.'}, inplace=True)\n",
    "df.rename(columns={'route':'Ruta'}, inplace=True)\n",
    "df.rename(columns={'ac_type':'Tipo'}, inplace=True)\n",
    "df.rename(columns={'registration':'Modelo'}, inplace=True)\n",
    "df.rename(columns={'cn_ln':'Fuselaje'}, inplace=True)\n",
    "df.rename(columns={'all_aboard':'Pasajeros'}, inplace=True)\n",
    "df.rename(columns={'PASAJEROS A BORDO':'Pasajeros 2'}, inplace=True)\n",
    "df.rename(columns={'crew_aboard':'Tripulación'}, inplace=True)\n",
    "df.rename(columns={'cantidad de fallecidos':'Taza de fatalidad'}, inplace=True)\n",
    "df.rename(columns={'passenger_fatalities':'Pasajeros fatales'}, inplace=True)\n",
    "df.rename(columns={'crew_fatalities':'Tripulación fatal'}, inplace=True)\n",
    "df.rename(columns={'ground':'Fallecidos en tierra'}, inplace=True)\n",
    "df.rename(columns={'summary':'Resumen'}, inplace=True)\n",
    "df.head(11)"
   ]
  },
  {
   "cell_type": "markdown",
   "metadata": {},
   "source": [
    "Si analizamos nuestros datos vemos que hay gran cantidad de valores con el signo \"?\", lo que vamos hacer con esos datos va ser transformarlos a valores nulos para saber la cantidad exacta de faltantes en cada columna."
   ]
  },
  {
   "cell_type": "code",
   "execution_count": null,
   "metadata": {},
   "outputs": [],
   "source": [
    "df.replace('?', np.nan, inplace=True)\n",
    "df.head()"
   ]
  },
  {
   "cell_type": "markdown",
   "metadata": {},
   "source": [
    "Ahora eliminamos columnas que no aportan nada para el análisis, esto debido a gran cantidad de valores nulos, datos incongruentes, irrelevancia con los objetivos del análisis y rebundancia de la data."
   ]
  },
  {
   "cell_type": "code",
   "execution_count": null,
   "metadata": {},
   "outputs": [],
   "source": [
    "df.drop(['Hora','Vuelo No.', 'Fuselaje', 'Pasajeros 2', 'Modelo', 'Tripulación', 'Pasajeros fatales', 'Tripulación fatal', 'Resumen'], axis=1, inplace=True)\n",
    "df.head(10)"
   ]
  },
  {
   "cell_type": "markdown",
   "metadata": {},
   "source": [
    "Vemos en la columnas de \"Lugar, Aerolinea, Ruta, Tipo y Resumen\" que hay valores nulos, vamos a convertir esos valores nulos en \"string\" con la palabra \"desconocido(a)\", esto se hace con el fin que cuando enviemos datos a mysql no tengamos problemas con la carga en las tablas. "
   ]
  },
  {
   "cell_type": "code",
   "execution_count": null,
   "metadata": {},
   "outputs": [],
   "source": [
    "df['Lugar'] = df['Lugar'].replace(np.nan, 'Desconocido')\n",
    "df['Aerolinea'] = df['Aerolinea'].replace(np.nan, 'Desconocida')\n",
    "df['Ruta'] = df['Ruta'].replace(np.nan, 'Desconocida')\n",
    "df['Tipo'] = df['Tipo'].replace(np.nan, 'Desconocido')\n",
    "df.head(10)"
   ]
  },
  {
   "cell_type": "markdown",
   "metadata": {},
   "source": [
    "Continuando con el analisis en los datos, es necesario cambiar las comas en las columnas por guiones para poder subir los datos a MySQL sin problemas."
   ]
  },
  {
   "cell_type": "code",
   "execution_count": null,
   "metadata": {},
   "outputs": [],
   "source": [
    "df['Lugar'] = df['Lugar'].str.replace(',', '-')\n",
    "df['Ruta'] = df['Ruta'].str.replace(',', '-')\n",
    "df['Tipo'] = df['Tipo'].str.replace(',', '-')\n",
    "df['Aerolinea'] = df['Aerolinea'].str.replace(',', '-')"
   ]
  },
  {
   "cell_type": "markdown",
   "metadata": {},
   "source": [
    "Ahora vamos a transformar los datos de la columna Fecha en datetime, esto nos va permitir mas adelante graficar de la mejor manera nuestros valores."
   ]
  },
  {
   "cell_type": "code",
   "execution_count": null,
   "metadata": {},
   "outputs": [],
   "source": [
    "df['Fecha'] = pd.to_datetime(df['Fecha'])\n",
    "df.head(10)"
   ]
  },
  {
   "cell_type": "code",
   "execution_count": null,
   "metadata": {},
   "outputs": [],
   "source": [
    "df.info()"
   ]
  },
  {
   "cell_type": "markdown",
   "metadata": {},
   "source": [
    "Si revisamos la informacion de nuestros datos podremos analizar que las columnas de \"Pasajeros, Taza de fatalidad y Fallecidos en tierra\" están con un tipo de dato llamado \"object\", esto quiere decir que nuestros valores no son tomados como numeros enteros sino como palabras, lo que vamos a realizar será transformar esos valores a numeros enteros para manejar mas adelante los datos sin ningun problema."
   ]
  },
  {
   "cell_type": "code",
   "execution_count": null,
   "metadata": {},
   "outputs": [],
   "source": [
    "df['Pasajeros'] = df['Pasajeros'].replace(np.nan, 0)\n",
    "df['Pasajeros'] = df['Pasajeros'].astype(int)\n",
    "\n",
    "df['Taza de fatalidad'] = df['Taza de fatalidad'].replace(np.nan, 0)\n",
    "df['Taza de fatalidad'] = df['Taza de fatalidad'].astype(int)\n",
    "\n",
    "df['Fallecidos en tierra'] = df['Fallecidos en tierra'].replace(np.nan, 0)\n",
    "df['Fallecidos en tierra'] = df['Fallecidos en tierra'].astype(int)"
   ]
  },
  {
   "cell_type": "code",
   "execution_count": null,
   "metadata": {},
   "outputs": [],
   "source": [
    "df.info()"
   ]
  },
  {
   "cell_type": "markdown",
   "metadata": {},
   "source": [
    "Creamos una columna que se llame \"Supervivientes\" donde vemos el numero total de supervivientes por catastrofe."
   ]
  },
  {
   "cell_type": "code",
   "execution_count": null,
   "metadata": {},
   "outputs": [],
   "source": [
    "df['Supervivientes'] = df['Pasajeros'] - df['Taza de fatalidad']    \n",
    "df.head(10)"
   ]
  },
  {
   "cell_type": "markdown",
   "metadata": {},
   "source": [
    "Guardamos todos nuestros cambios en un nuevo csv."
   ]
  },
  {
   "cell_type": "code",
   "execution_count": null,
   "metadata": {},
   "outputs": [],
   "source": [
    "df.to_csv('AccidentesAviones_2.csv', index=False)"
   ]
  }
 ],
 "metadata": {
  "kernelspec": {
   "display_name": "Python 3.10.5 64-bit",
   "language": "python",
   "name": "python3"
  },
  "language_info": {
   "codemirror_mode": {
    "name": "ipython",
    "version": 3
   },
   "file_extension": ".py",
   "mimetype": "text/x-python",
   "name": "python",
   "nbconvert_exporter": "python",
   "pygments_lexer": "ipython3",
   "version": "3.10.5"
  },
  "orig_nbformat": 4,
  "vscode": {
   "interpreter": {
    "hash": "df95319d8ce4e1d89f5365ae10992bc1f65da593082b1d264e8f529830ec2f02"
   }
  }
 },
 "nbformat": 4,
 "nbformat_minor": 2
}
